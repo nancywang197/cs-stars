{
 "cells": [
  {
   "cell_type": "code",
   "execution_count": 7,
   "metadata": {},
   "outputs": [
    {
     "name": "stdout",
     "output_type": "stream",
     "text": [
      "      task_id                                             prompt  \\\n",
      "0      Java/0  import java.util.*;\\nimport java.lang.*;\\n\\ncl...   \n",
      "1      Java/1  import java.util.*;\\nimport java.lang.*;\\n\\ncl...   \n",
      "2      Java/2  import java.util.*;\\nimport java.lang.*;\\n\\ncl...   \n",
      "3      Java/3  import java.util.*;\\nimport java.lang.*;\\n\\ncl...   \n",
      "4      Java/4  import java.util.*;\\nimport java.lang.*;\\n\\ncl...   \n",
      "..        ...                                                ...   \n",
      "159  Java/159  import java.util.*;\\nimport java.lang.*;\\n\\ncl...   \n",
      "160  Java/160  import java.util.*;\\nimport java.lang.*;\\n\\ncl...   \n",
      "161  Java/161  import java.util.*;\\nimport java.lang.*;\\n\\ncl...   \n",
      "162  Java/162  import java.math.BigInteger;\\nimport java.secu...   \n",
      "163  Java/163  import java.util.*;\\nimport java.lang.*;\\n\\ncl...   \n",
      "\n",
      "                                    canonical_solution  \\\n",
      "0            for (int i = 0; i < numbers.size(); i+...   \n",
      "1            List<String> result = new ArrayList<>(...   \n",
      "2                       return number % 1.0;\\n    }\\n}   \n",
      "3            int balance = 0;\\n\\n        for (int o...   \n",
      "4            double sum = 0.0;\\n        for (double...   \n",
      "..                                                 ...   \n",
      "159          if (need <= remaining) {\\n            ...   \n",
      "160          List<String> ops = new ArrayList<>(ope...   \n",
      "161          boolean flag = true;\\n        StringBu...   \n",
      "162          if (text.isEmpty()) {\\n            ret...   \n",
      "163          int lower = Math.max(2, Math.min(a, b)...   \n",
      "\n",
      "                                                  test  \\\n",
      "0    public class Main {\\n    public static void ma...   \n",
      "1    public class Main {\\n    public static void ma...   \n",
      "2    public class Main {\\n    public static void ma...   \n",
      "3    public class Main {\\n    public static void ma...   \n",
      "4    public class Main {\\n    public static void ma...   \n",
      "..                                                 ...   \n",
      "159  public class Main {\\n    public static void ma...   \n",
      "160  public class Main {\\n    public static void ma...   \n",
      "161  public class Main {\\n    public static void ma...   \n",
      "162  public class Main {\\n    public static void ma...   \n",
      "163  public class Main {\\n    public static void ma...   \n",
      "\n",
      "                                                  text  \\\n",
      "0        Check if in given list of numbers, are any...   \n",
      "1        Input to this function is a string contain...   \n",
      "2        Given a positive floating point number, it...   \n",
      "3        You're given a list of deposit and withdra...   \n",
      "4        For a given list of input numbers, calcula...   \n",
      "..                                                 ...   \n",
      "159      You're a hungry rabbit, and you already ha...   \n",
      "160      Given two lists operator, and operand. The...   \n",
      "161      You are given a string s.\\n    if s[i] is ...   \n",
      "162      Given a string \"text\", return its md5 hash...   \n",
      "163      Given two positive integers a and b, retur...   \n",
      "\n",
      "                                           declaration  \\\n",
      "0    import java.util.*;\\nimport java.lang.*;\\n\\ncl...   \n",
      "1    import java.util.*;\\nimport java.lang.*;\\n\\ncl...   \n",
      "2    import java.util.*;\\nimport java.lang.*;\\n\\ncl...   \n",
      "3    import java.util.*;\\nimport java.lang.*;\\n\\ncl...   \n",
      "4    import java.util.*;\\nimport java.lang.*;\\n\\ncl...   \n",
      "..                                                 ...   \n",
      "159  import java.util.*;\\nimport java.lang.*;\\n\\ncl...   \n",
      "160  import java.util.*;\\nimport java.lang.*;\\n\\ncl...   \n",
      "161  import java.util.*;\\nimport java.lang.*;\\n\\ncl...   \n",
      "162  import java.math.BigInteger;\\nimport java.secu...   \n",
      "163  import java.util.*;\\nimport java.lang.*;\\n\\ncl...   \n",
      "\n",
      "                                          example_test  \n",
      "0    public class Main {\\n    public static void ma...  \n",
      "1    public class Main {\\n    public static void ma...  \n",
      "2    public class Main {\\n    public static void ma...  \n",
      "3    public class Main {\\n    public static void ma...  \n",
      "4    public class Main {\\n    public static void ma...  \n",
      "..                                                 ...  \n",
      "159  public class Main {\\n    public static void ma...  \n",
      "160                                                     \n",
      "161  public class Main {\\n    public static void ma...  \n",
      "162  public class Main {\\n    public static void ma...  \n",
      "163  public class Main {\\n    public static void ma...  \n",
      "\n",
      "[164 rows x 7 columns]\n"
     ]
    }
   ],
   "source": [
    "import json\n",
    "import pandas as pd\n",
    "\n",
    "json_path = 'humaneval_java.jsonl'\n",
    "# Open the JSONL file and extract data into a list of dictionaries\n",
    "with open(json_path, 'r') as file:\n",
    "    data = [json.loads(line) for line in file]\n",
    "\n",
    "df = pd.DataFrame(data)\n",
    "print(df)\n"
   ]
  },
  {
   "cell_type": "code",
   "execution_count": 8,
   "metadata": {},
   "outputs": [],
   "source": [
    "excel_file_path = 'humaneval_java.xlsx'\n",
    "df.to_excel(excel_file_path, index=False, engine='openpyxl')  # index=False avoids writing row numbers"
   ]
  }
 ],
 "metadata": {
  "kernelspec": {
   "display_name": "Python 3",
   "language": "python",
   "name": "python3"
  },
  "language_info": {
   "codemirror_mode": {
    "name": "ipython",
    "version": 3
   },
   "file_extension": ".py",
   "mimetype": "text/x-python",
   "name": "python",
   "nbconvert_exporter": "python",
   "pygments_lexer": "ipython3",
   "version": "3.11.9"
  }
 },
 "nbformat": 4,
 "nbformat_minor": 2
}
